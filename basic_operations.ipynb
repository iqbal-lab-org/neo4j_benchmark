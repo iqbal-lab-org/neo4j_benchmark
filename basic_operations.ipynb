{
 "cells": [
  {
   "cell_type": "markdown",
   "metadata": {},
   "source": [
    "# 1. Setup"
   ]
  },
  {
   "cell_type": "markdown",
   "metadata": {},
   "source": [
    "## 1.1. Start neo4j docker container"
   ]
  },
  {
   "cell_type": "code",
   "execution_count": 235,
   "metadata": {},
   "outputs": [],
   "source": [
    "import subprocess\n",
    "\n",
    "subprocess.run(['docker', 'run',\n",
    "                '--rm', '-d',\n",
    "                '-e', 'NEO4J_AUTH=none',\n",
    "                '-p', '7687:7687',\n",
    "                '-p', '7474:7474',\n",
    "                '--name', 'bench',\n",
    "                'neo4j:3.5'])\n",
    "\n",
    "from time import sleep, time\n",
    "sleep(10)"
   ]
  },
  {
   "cell_type": "markdown",
   "metadata": {},
   "source": [
    "## 1.2. Connect to neo4j"
   ]
  },
  {
   "cell_type": "code",
   "execution_count": 236,
   "metadata": {},
   "outputs": [],
   "source": [
    "from neo4j import GraphDatabase\n",
    "\n",
    "driver = GraphDatabase.driver(\"bolt://localhost:7687\", max_connection_pool_size=1_000_000)"
   ]
  },
  {
   "cell_type": "markdown",
   "metadata": {},
   "source": [
    "## 1.3. Utility functions"
   ]
  },
  {
   "cell_type": "code",
   "execution_count": 237,
   "metadata": {},
   "outputs": [],
   "source": [
    "def query(tx, q):\n",
    "    return tx.run(q)\n",
    "\n",
    "def du():\n",
    "    return subprocess.run(['docker', 'exec', 'bench',\n",
    "                           'du', '-bc', '/data'],\n",
    "                          capture_output=True, encoding='utf-8')\n",
    "\n",
    "def parse(proc):\n",
    "    return float(proc.stdout.split('\\n')[-2].split('\\t')[0])"
   ]
  },
  {
   "cell_type": "markdown",
   "metadata": {},
   "source": [
    "# 2. Benchmarks"
   ]
  },
  {
   "cell_type": "markdown",
   "metadata": {},
   "source": [
    "## 2.1. Disk usage of nodes"
   ]
  },
  {
   "cell_type": "code",
   "execution_count": 238,
   "metadata": {},
   "outputs": [
    {
     "data": {
      "text/plain": [
       "<matplotlib.collections.PathCollection at 0x7fe71b6f7160>"
      ]
     },
     "execution_count": 238,
     "metadata": {},
     "output_type": "execute_result"
    },
    {
     "data": {
      "image/png": "[encoded data removed]",
      "text/plain": [
       "<Figure size 432x288 with 1 Axes>"
      ]
     },
     "metadata": {
      "needs_background": "light"
     },
     "output_type": "display_data"
    }
   ],
   "source": [
    "from concurrent.futures import ThreadPoolExecutor\n",
    "\n",
    "x = [10 ** p for p in range(1, 8)]\n",
    "y = []\n",
    "\n",
    "# Results for other benchmarks but we collect it here so we don't have to recreate the scenario\n",
    "isolated_node_creation_time = []\n",
    "\n",
    "def do_work(q):\n",
    "    with driver.session() as session:\n",
    "        session.write_transaction(query, q)\n",
    "\n",
    "for i, n in enumerate(x):\n",
    "    if i > 0:\n",
    "        n -= x[i-1]  # Minus created nodes\n",
    "        \n",
    "    with ThreadPoolExecutor() as executor:\n",
    "        q = 'create '\n",
    "        for j in range(n):\n",
    "            q += '(),'\n",
    "            \n",
    "            if j > 0 and j % 10000 == 0:\n",
    "                q = q[:-1]\n",
    "                executor.submit(do_work, q)\n",
    "                q = 'create '\n",
    "        if q != 'create ':\n",
    "            q = q[:-1]\n",
    "            executor.submit(do_work, q)\n",
    "    \n",
    "    y.append(int(parse(du())))\n",
    "    \n",
    "    # Results for other benchmarks\n",
    "    start = time()\n",
    "    with driver.session() as session:\n",
    "        result = session.write_transaction(query, 'create (n) return n')\n",
    "    isolated_node_creation_time.append((x[i], time() - start))\n",
    "    added = result.values()[0][0]\n",
    "    with driver.session() as session:\n",
    "        session.write_transaction(query, f'match (n) where id(n)={added.id} delete n')\n",
    "    \n",
    "from matplotlib import pyplot as plt\n",
    "plt.scatter(x, y)"
   ]
  },
  {
   "cell_type": "markdown",
   "metadata": {},
   "source": [
    "It seems disk space scale linearly with number of nodes"
   ]
  },
  {
   "cell_type": "code",
   "execution_count": 239,
   "metadata": {},
   "outputs": [],
   "source": [
    "import numpy as np\n",
    "\n",
    "a, b = np.polyfit(x, y, 1)\n",
    "big_x = [10 ** p for p in range(8, 13)]\n",
    "big_y = [a * bx + b for bx in big_x]"
   ]
  },
  {
   "cell_type": "markdown",
   "metadata": {},
   "source": [
    "### 2.1.1. Disk space vs no. nodes table (from 100M nodes onward is extrapolated)"
   ]
  },
  {
   "cell_type": "code",
   "execution_count": 240,
   "metadata": {},
   "outputs": [
    {
     "data": {
      "text/html": [
       "<div>\n",
       "<style scoped>\n",
       "    .dataframe tbody tr th:only-of-type {\n",
       "        vertical-align: middle;\n",
       "    }\n",
       "\n",
       "    .dataframe tbody tr th {\n",
       "        vertical-align: top;\n",
       "    }\n",
       "\n",
       "    .dataframe thead th {\n",
       "        text-align: right;\n",
       "    }\n",
       "</style>\n",
       "<table border=\"1\" class=\"dataframe\">\n",
       "  <thead>\n",
       "    <tr style=\"text-align: right;\">\n",
       "      <th></th>\n",
       "      <th>No. nodes</th>\n",
       "      <th>Space (bytes)</th>\n",
       "    </tr>\n",
       "  </thead>\n",
       "  <tbody>\n",
       "    <tr>\n",
       "      <th>0</th>\n",
       "      <td>10</td>\n",
       "      <td>128K</td>\n",
       "    </tr>\n",
       "    <tr>\n",
       "      <th>1</th>\n",
       "      <td>100</td>\n",
       "      <td>133K</td>\n",
       "    </tr>\n",
       "    <tr>\n",
       "      <th>2</th>\n",
       "      <td>1k</td>\n",
       "      <td>173K</td>\n",
       "    </tr>\n",
       "    <tr>\n",
       "      <th>3</th>\n",
       "      <td>10k</td>\n",
       "      <td>578K</td>\n",
       "    </tr>\n",
       "    <tr>\n",
       "      <th>4</th>\n",
       "      <td>100k</td>\n",
       "      <td>4M</td>\n",
       "    </tr>\n",
       "    <tr>\n",
       "      <th>5</th>\n",
       "      <td>1M</td>\n",
       "      <td>44M</td>\n",
       "    </tr>\n",
       "    <tr>\n",
       "      <th>6</th>\n",
       "      <td>10M</td>\n",
       "      <td>438M</td>\n",
       "    </tr>\n",
       "    <tr>\n",
       "      <th>7</th>\n",
       "      <td>100M</td>\n",
       "      <td>4G</td>\n",
       "    </tr>\n",
       "    <tr>\n",
       "      <th>8</th>\n",
       "      <td>1B</td>\n",
       "      <td>42G</td>\n",
       "    </tr>\n",
       "    <tr>\n",
       "      <th>9</th>\n",
       "      <td>10B</td>\n",
       "      <td>428G</td>\n",
       "    </tr>\n",
       "    <tr>\n",
       "      <th>10</th>\n",
       "      <td>100B</td>\n",
       "      <td>4T</td>\n",
       "    </tr>\n",
       "    <tr>\n",
       "      <th>11</th>\n",
       "      <td>1T</td>\n",
       "      <td>41T</td>\n",
       "    </tr>\n",
       "  </tbody>\n",
       "</table>\n",
       "</div>"
      ],
      "text/plain": [
       "   No. nodes Space (bytes)\n",
       "0         10          128K\n",
       "1        100          133K\n",
       "2         1k          173K\n",
       "3        10k          578K\n",
       "4       100k            4M\n",
       "5         1M           44M\n",
       "6        10M          438M\n",
       "7       100M            4G\n",
       "8         1B           42G\n",
       "9        10B          428G\n",
       "10      100B            4T\n",
       "11        1T           41T"
      ]
     },
     "execution_count": 240,
     "metadata": {},
     "output_type": "execute_result"
    }
   ],
   "source": [
    "import pandas as pd\n",
    "from hurry.filesize import size\n",
    "from millify import millify\n",
    "\n",
    "df = pd.DataFrame({\n",
    "    'No. nodes': [millify(t) for t in (x + big_x)],\n",
    "    'Space (bytes)': [size(z) for z in (y + big_y)],\n",
    "})\n",
    "df"
   ]
  },
  {
   "cell_type": "markdown",
   "metadata": {},
   "source": [
    "## 2.2. Disk usage of edges"
   ]
  },
  {
   "cell_type": "code",
   "execution_count": 241,
   "metadata": {},
   "outputs": [
    {
     "data": {
      "text/plain": [
       "<matplotlib.collections.PathCollection at 0x7fe718c8b7c0>"
      ]
     },
     "execution_count": 241,
     "metadata": {},
     "output_type": "execute_result"
    },
    {
     "data": {
      "image/png": "[encoded data removed]",
      "text/plain": [
       "<Figure size 432x288 with 1 Axes>"
      ]
     },
     "metadata": {
      "needs_background": "light"
     },
     "output_type": "display_data"
    }
   ],
   "source": [
    "x = [10, 100, 1000, 10000]\n",
    "y = []\n",
    "\n",
    "n_nodes = 10 ** 7\n",
    "\n",
    "def do_work(q):\n",
    "    with driver.session() as session:\n",
    "        session.write_transaction(query, q)\n",
    "\n",
    "for i, n in enumerate(x):\n",
    "    if i > 0:\n",
    "        n -= x[i-1]\n",
    "    if n == n_nodes:\n",
    "        n -= 1\n",
    "\n",
    "    with ThreadPoolExecutor() as executor:\n",
    "        node = 0\n",
    "        for neighbour in range(1, 1 + n):\n",
    "            if i > 0:\n",
    "                neighbour += sum(x[:i])\n",
    "            neighbour %= n_nodes\n",
    "\n",
    "            q = f'match (a),(b) where id(a)={node} and id(b)={neighbour} create (a)-[:Edge]->(b)'\n",
    "            executor.submit(do_work, q)\n",
    "    \n",
    "    y.append(int(parse(du())) - 438 * 1024 ** 2)  # Minus ~438MB of 10M nodes\n",
    "    \n",
    "from matplotlib import pyplot as plt\n",
    "plt.scatter(x, y)"
   ]
  },
  {
   "cell_type": "code",
   "execution_count": 242,
   "metadata": {},
   "outputs": [
    {
     "data": {
      "text/html": [
       "<div>\n",
       "<style scoped>\n",
       "    .dataframe tbody tr th:only-of-type {\n",
       "        vertical-align: middle;\n",
       "    }\n",
       "\n",
       "    .dataframe tbody tr th {\n",
       "        vertical-align: top;\n",
       "    }\n",
       "\n",
       "    .dataframe thead th {\n",
       "        text-align: right;\n",
       "    }\n",
       "</style>\n",
       "<table border=\"1\" class=\"dataframe\">\n",
       "  <thead>\n",
       "    <tr style=\"text-align: right;\">\n",
       "      <th></th>\n",
       "      <th>No. edges</th>\n",
       "      <th>Space (bytes)</th>\n",
       "    </tr>\n",
       "  </thead>\n",
       "  <tbody>\n",
       "    <tr>\n",
       "      <th>0</th>\n",
       "      <td>10</td>\n",
       "      <td>910K</td>\n",
       "    </tr>\n",
       "    <tr>\n",
       "      <th>1</th>\n",
       "      <td>100</td>\n",
       "      <td>961K</td>\n",
       "    </tr>\n",
       "    <tr>\n",
       "      <th>2</th>\n",
       "      <td>1k</td>\n",
       "      <td>1M</td>\n",
       "    </tr>\n",
       "    <tr>\n",
       "      <th>3</th>\n",
       "      <td>10k</td>\n",
       "      <td>6M</td>\n",
       "    </tr>\n",
       "    <tr>\n",
       "      <th>4</th>\n",
       "      <td>100k</td>\n",
       "      <td>53M</td>\n",
       "    </tr>\n",
       "    <tr>\n",
       "      <th>5</th>\n",
       "      <td>1M</td>\n",
       "      <td>529M</td>\n",
       "    </tr>\n",
       "  </tbody>\n",
       "</table>\n",
       "</div>"
      ],
      "text/plain": [
       "  No. edges Space (bytes)\n",
       "0        10          910K\n",
       "1       100          961K\n",
       "2        1k            1M\n",
       "3       10k            6M\n",
       "4      100k           53M\n",
       "5        1M          529M"
      ]
     },
     "execution_count": 242,
     "metadata": {},
     "output_type": "execute_result"
    }
   ],
   "source": [
    "a, b = np.polyfit(x, y, 1)\n",
    "big_x = [10 ** p for p in range(5, 7)]\n",
    "big_y = [a * bx + b for bx in big_x]\n",
    "\n",
    "df = pd.DataFrame({\n",
    "    'No. edges': [millify(t) for t in (x + big_x)],\n",
    "    'Space (bytes)': [size(z) for z in (y + big_y)],\n",
    "})\n",
    "df"
   ]
  },
  {
   "cell_type": "markdown",
   "metadata": {},
   "source": [
    "### 2.2.1. Neo4j's article on disk usage: https://neo4j.com/developer/kb/understanding-data-on-disk/"
   ]
  },
  {
   "cell_type": "markdown",
   "metadata": {},
   "source": [
    "## 2.3. Isolated node creation time w.r.t. number of nodes"
   ]
  },
  {
   "cell_type": "code",
   "execution_count": 243,
   "metadata": {},
   "outputs": [
    {
     "data": {
      "text/plain": [
       "<matplotlib.collections.PathCollection at 0x7fe719887f40>"
      ]
     },
     "execution_count": 243,
     "metadata": {},
     "output_type": "execute_result"
    },
    {
     "data": {
      "image/png": "[encoded data removed]",
      "text/plain": [
       "<Figure size 432x288 with 1 Axes>"
      ]
     },
     "metadata": {
      "needs_background": "light"
     },
     "output_type": "display_data"
    }
   ],
   "source": [
    "x, y = zip(*isolated_node_creation_time)\n",
    "plt.scatter(x, y)"
   ]
  },
  {
   "cell_type": "markdown",
   "metadata": {},
   "source": [
    "...constant time? (with random variation due to I/O)"
   ]
  },
  {
   "cell_type": "markdown",
   "metadata": {},
   "source": [
    "## 2.4. Single node's creation & deletion time w.r.t. number of neighbours"
   ]
  },
  {
   "cell_type": "markdown",
   "metadata": {},
   "source": [
    "### 2.4.1. Creation time"
   ]
  },
  {
   "cell_type": "code",
   "execution_count": 244,
   "metadata": {},
   "outputs": [
    {
     "data": {
      "text/plain": [
       "<matplotlib.collections.PathCollection at 0x7fe71c45c340>"
      ]
     },
     "execution_count": 244,
     "metadata": {},
     "output_type": "execute_result"
    },
    {
     "data": {
      "image/png": "[encoded data removed]",
      "text/plain": [
       "<Figure size 432x288 with 1 Axes>"
      ]
     },
     "metadata": {
      "needs_background": "light"
     },
     "output_type": "display_data"
    }
   ],
   "source": [
    "from time import time\n",
    "\n",
    "x = [10, 100, 1000, 10000, 100000]\n",
    "y = []\n",
    "y_del = []\n",
    "\n",
    "for i, n in enumerate(x):\n",
    "    if n == n_nodes:\n",
    "        n -= 1\n",
    "        \n",
    "    neighbours = [i for i in range(n)]\n",
    "    q = f'match (a) where id(a) in {neighbours} create (n),(n)-[e:Edge]->(a) return n'\n",
    "\n",
    "    start = time()\n",
    "    with driver.session() as s:\n",
    "        result = s.write_transaction(query, q)\n",
    "    y.append(time() - start)\n",
    "    \n",
    "    added = result.values()\n",
    "    nodes = [a[0].id for a in added]\n",
    "    \n",
    "    start = time()\n",
    "    with driver.session() as s:\n",
    "        s.write_transaction(query, f'match (n),(n)-[e:Edge]->() where id(n) in {nodes} delete e,n')\n",
    "    y_del.append(time() - start)\n",
    "    \n",
    "from matplotlib import pyplot as plt\n",
    "plt.scatter(x, y)"
   ]
  },
  {
   "cell_type": "code",
   "execution_count": 245,
   "metadata": {},
   "outputs": [
    {
     "data": {
      "text/html": [
       "<div>\n",
       "<style scoped>\n",
       "    .dataframe tbody tr th:only-of-type {\n",
       "        vertical-align: middle;\n",
       "    }\n",
       "\n",
       "    .dataframe tbody tr th {\n",
       "        vertical-align: top;\n",
       "    }\n",
       "\n",
       "    .dataframe thead th {\n",
       "        text-align: right;\n",
       "    }\n",
       "</style>\n",
       "<table border=\"1\" class=\"dataframe\">\n",
       "  <thead>\n",
       "    <tr style=\"text-align: right;\">\n",
       "      <th></th>\n",
       "      <th>No. edges on insert</th>\n",
       "      <th>Time (seconds)</th>\n",
       "    </tr>\n",
       "  </thead>\n",
       "  <tbody>\n",
       "    <tr>\n",
       "      <th>0</th>\n",
       "      <td>10</td>\n",
       "      <td>0</td>\n",
       "    </tr>\n",
       "    <tr>\n",
       "      <th>1</th>\n",
       "      <td>100</td>\n",
       "      <td>0</td>\n",
       "    </tr>\n",
       "    <tr>\n",
       "      <th>2</th>\n",
       "      <td>1k</td>\n",
       "      <td>0</td>\n",
       "    </tr>\n",
       "    <tr>\n",
       "      <th>3</th>\n",
       "      <td>10k</td>\n",
       "      <td>1</td>\n",
       "    </tr>\n",
       "    <tr>\n",
       "      <th>4</th>\n",
       "      <td>100k</td>\n",
       "      <td>13</td>\n",
       "    </tr>\n",
       "    <tr>\n",
       "      <th>5</th>\n",
       "      <td>1M</td>\n",
       "      <td>128</td>\n",
       "    </tr>\n",
       "    <tr>\n",
       "      <th>6</th>\n",
       "      <td>10M</td>\n",
       "      <td>1k</td>\n",
       "    </tr>\n",
       "  </tbody>\n",
       "</table>\n",
       "</div>"
      ],
      "text/plain": [
       "  No. edges on insert Time (seconds)\n",
       "0                  10              0\n",
       "1                 100              0\n",
       "2                  1k              0\n",
       "3                 10k              1\n",
       "4                100k             13\n",
       "5                  1M            128\n",
       "6                 10M             1k"
      ]
     },
     "execution_count": 245,
     "metadata": {},
     "output_type": "execute_result"
    }
   ],
   "source": [
    "a, b = np.polyfit(x, y, 1)\n",
    "big_x = [10 ** p for p in range(6, 8)]\n",
    "big_y = [a * bx + b for bx in big_x]\n",
    "\n",
    "df = pd.DataFrame({\n",
    "    'No. edges on insert': [millify(t) for t in (x + big_x)],\n",
    "    'Time (seconds)': [millify(z) for z in (y + big_y)],\n",
    "})\n",
    "df"
   ]
  },
  {
   "cell_type": "markdown",
   "metadata": {},
   "source": [
    "### 2.4.2. Deletion time"
   ]
  },
  {
   "cell_type": "code",
   "execution_count": 246,
   "metadata": {},
   "outputs": [
    {
     "data": {
      "text/plain": [
       "<matplotlib.collections.PathCollection at 0x7fe71c484b80>"
      ]
     },
     "execution_count": 246,
     "metadata": {},
     "output_type": "execute_result"
    },
    {
     "data": {
      "image/png": "[encoded data removed]",
      "text/plain": [
       "<Figure size 432x288 with 1 Axes>"
      ]
     },
     "metadata": {
      "needs_background": "light"
     },
     "output_type": "display_data"
    }
   ],
   "source": [
    "plt.scatter(x, y_del)"
   ]
  },
  {
   "cell_type": "code",
   "execution_count": 247,
   "metadata": {},
   "outputs": [
    {
     "data": {
      "text/html": [
       "<div>\n",
       "<style scoped>\n",
       "    .dataframe tbody tr th:only-of-type {\n",
       "        vertical-align: middle;\n",
       "    }\n",
       "\n",
       "    .dataframe tbody tr th {\n",
       "        vertical-align: top;\n",
       "    }\n",
       "\n",
       "    .dataframe thead th {\n",
       "        text-align: right;\n",
       "    }\n",
       "</style>\n",
       "<table border=\"1\" class=\"dataframe\">\n",
       "  <thead>\n",
       "    <tr style=\"text-align: right;\">\n",
       "      <th></th>\n",
       "      <th>No. edges on delete</th>\n",
       "      <th>Time (seconds)</th>\n",
       "    </tr>\n",
       "  </thead>\n",
       "  <tbody>\n",
       "    <tr>\n",
       "      <th>0</th>\n",
       "      <td>10</td>\n",
       "      <td>0</td>\n",
       "    </tr>\n",
       "    <tr>\n",
       "      <th>1</th>\n",
       "      <td>100</td>\n",
       "      <td>0</td>\n",
       "    </tr>\n",
       "    <tr>\n",
       "      <th>2</th>\n",
       "      <td>1k</td>\n",
       "      <td>0</td>\n",
       "    </tr>\n",
       "    <tr>\n",
       "      <th>3</th>\n",
       "      <td>10k</td>\n",
       "      <td>1</td>\n",
       "    </tr>\n",
       "    <tr>\n",
       "      <th>4</th>\n",
       "      <td>100k</td>\n",
       "      <td>12</td>\n",
       "    </tr>\n",
       "    <tr>\n",
       "      <th>5</th>\n",
       "      <td>1M</td>\n",
       "      <td>119</td>\n",
       "    </tr>\n",
       "    <tr>\n",
       "      <th>6</th>\n",
       "      <td>10M</td>\n",
       "      <td>1k</td>\n",
       "    </tr>\n",
       "  </tbody>\n",
       "</table>\n",
       "</div>"
      ],
      "text/plain": [
       "  No. edges on delete Time (seconds)\n",
       "0                  10              0\n",
       "1                 100              0\n",
       "2                  1k              0\n",
       "3                 10k              1\n",
       "4                100k             12\n",
       "5                  1M            119\n",
       "6                 10M             1k"
      ]
     },
     "execution_count": 247,
     "metadata": {},
     "output_type": "execute_result"
    }
   ],
   "source": [
    "a, b = np.polyfit(x, y_del, 1)\n",
    "big_x = [10 ** p for p in range(6, 8)]\n",
    "big_y = [a * bx + b for bx in big_x]\n",
    "\n",
    "df = pd.DataFrame({\n",
    "    'No. edges on delete': [millify(t) for t in (x + big_x)],\n",
    "    'Time (seconds)': [millify(z) for z in (y_del + big_y)],\n",
    "})\n",
    "df"
   ]
  },
  {
   "cell_type": "markdown",
   "metadata": {},
   "source": [
    "# Clean up"
   ]
  },
  {
   "cell_type": "code",
   "execution_count": 234,
   "metadata": {},
   "outputs": [
    {
     "data": {
      "text/plain": [
       "CompletedProcess(args=['docker', 'stop', 'bench'], returncode=0)"
      ]
     },
     "execution_count": 234,
     "metadata": {},
     "output_type": "execute_result"
    }
   ],
   "source": [
    "driver.close()\n",
    "subprocess.run(['docker', 'stop', 'bench'])"
   ]
  },
  {
   "cell_type": "code",
   "execution_count": null,
   "metadata": {},
   "outputs": [],
   "source": []
  }
 ],
 "metadata": {
  "kernelspec": {
   "display_name": "Python 3",
   "language": "python",
   "name": "python3"
  },
  "language_info": {
   "codemirror_mode": {
    "name": "ipython",
    "version": 3
   },
   "file_extension": ".py",
   "mimetype": "text/x-python",
   "name": "python",
   "nbconvert_exporter": "python",
   "pygments_lexer": "ipython3",
   "version": "3.8.2"
  }
 },
 "nbformat": 4,
 "nbformat_minor": 4
}
