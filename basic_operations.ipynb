{
 "cells": [
  {
   "cell_type": "markdown",
   "metadata": {},
   "source": [
    "# 1. Setup"
   ]
  },
  {
   "cell_type": "markdown",
   "metadata": {},
   "source": [
    "## 1.1. Start neo4j docker container"
   ]
  },
  {
   "cell_type": "code",
   "execution_count": 92,
   "metadata": {},
   "outputs": [],
   "source": [
    "import subprocess\n",
    "\n",
    "subprocess.run(['docker', 'run',\n",
    "                '--rm', '-d',\n",
    "                '-e', 'NEO4J_AUTH=none',\n",
    "                '-p', '7687:7687',\n",
    "                '-p', '7474:7474',\n",
    "                '--name', 'bench',\n",
    "                'neo4j:3.5'])\n",
    "\n",
    "from time import sleep, time\n",
    "sleep(10)"
   ]
  },
  {
   "cell_type": "markdown",
   "metadata": {},
   "source": [
    "## 1.2. Connect to neo4j"
   ]
  },
  {
   "cell_type": "code",
   "execution_count": 93,
   "metadata": {},
   "outputs": [],
   "source": [
    "from neo4j import GraphDatabase\n",
    "\n",
    "driver = GraphDatabase.driver(\"bolt://localhost:7687\", max_connection_pool_size=1_000_000)"
   ]
  },
  {
   "cell_type": "markdown",
   "metadata": {},
   "source": [
    "## 1.3. Utility functions"
   ]
  },
  {
   "cell_type": "code",
   "execution_count": 94,
   "metadata": {},
   "outputs": [],
   "source": [
    "def query(tx, q):\n",
    "    return tx.run(q)\n",
    "\n",
    "def du():\n",
    "    return subprocess.run(['docker', 'exec', 'bench',\n",
    "                           'du', '-bc', '/data'],\n",
    "                          capture_output=True, encoding='utf-8')\n",
    "\n",
    "def parse(proc):\n",
    "    return float(proc.stdout.split('\\n')[-2].split('\\t')[0])"
   ]
  },
  {
   "cell_type": "markdown",
   "metadata": {},
   "source": [
    "# 2. Benchmarks"
   ]
  },
  {
   "cell_type": "markdown",
   "metadata": {},
   "source": [
    "## 2.1. Disk usage of nodes"
   ]
  },
  {
   "cell_type": "code",
   "execution_count": 95,
   "metadata": {},
   "outputs": [
    {
     "data": {
      "text/plain": [
       "<matplotlib.collections.PathCollection at 0x7f0633c80a60>"
      ]
     },
     "execution_count": 95,
     "metadata": {},
     "output_type": "execute_result"
    },
    {
     "data": {
      "image/png": "[encoded data removed]",
      "text/plain": [
       "<Figure size 432x288 with 1 Axes>"
      ]
     },
     "metadata": {
      "needs_background": "light"
     },
     "output_type": "display_data"
    }
   ],
   "source": [
    "from concurrent.futures import ThreadPoolExecutor\n",
    "\n",
    "x = [10 ** p for p in range(1, 6)]\n",
    "y = []\n",
    "\n",
    "# Results for other benchmarks but we collect it here so we don't have to recreate the scenario\n",
    "isolated_node_creation_time = []\n",
    "\n",
    "def do_work(q):\n",
    "    with driver.session() as session:\n",
    "        session.write_transaction(query, q)\n",
    "\n",
    "c = 0\n",
    "for i, n in enumerate(x):\n",
    "    if i > 0:\n",
    "        n -= x[i-1]  # Minus created nodes\n",
    "        \n",
    "    with ThreadPoolExecutor() as executor:\n",
    "        q = 'create '\n",
    "        for j in range(n):\n",
    "            q += f'({{name: \"n{c}\"}}),'\n",
    "            c += 1\n",
    "            \n",
    "            if j > 0 and j % 10000 == 0:\n",
    "                q = q[:-1]\n",
    "                executor.submit(do_work, q)\n",
    "                q = 'create '\n",
    "        if q != 'create ':\n",
    "            q = q[:-1]\n",
    "            executor.submit(do_work, q)\n",
    "    \n",
    "    y.append(int(parse(du())))\n",
    "    \n",
    "    # Results for other benchmarks\n",
    "    start = time()\n",
    "    with driver.session() as session:\n",
    "        result = session.write_transaction(query, 'create (n) return n')\n",
    "    isolated_node_creation_time.append((x[i], time() - start))\n",
    "    added = result.values()[0][0]\n",
    "    with driver.session() as session:\n",
    "        session.write_transaction(query, f'match (n) where id(n)={added.id} delete n')\n",
    "    \n",
    "from matplotlib import pyplot as plt\n",
    "import numpy as np\n",
    "plt.scatter(x, y)"
   ]
  },
  {
   "cell_type": "markdown",
   "metadata": {},
   "source": [
    "It seems disk space scale linearly with the number of nodes"
   ]
  },
  {
   "cell_type": "code",
   "execution_count": 96,
   "metadata": {},
   "outputs": [],
   "source": [
    "import numpy as np\n",
    "\n",
    "a, b = np.polyfit(x, y, 1)\n",
    "big_x = [10 ** p for p in range(6, 10)]\n",
    "big_y = [a * bx + b for bx in big_x]"
   ]
  },
  {
   "cell_type": "markdown",
   "metadata": {},
   "source": [
    "### 2.1.1. Disk space vs no. nodes table (from 100M nodes onward is extrapolated)"
   ]
  },
  {
   "cell_type": "code",
   "execution_count": 97,
   "metadata": {},
   "outputs": [
    {
     "data": {
      "text/html": [
       "<div>\n",
       "<style scoped>\n",
       "    .dataframe tbody tr th:only-of-type {\n",
       "        vertical-align: middle;\n",
       "    }\n",
       "\n",
       "    .dataframe tbody tr th {\n",
       "        vertical-align: top;\n",
       "    }\n",
       "\n",
       "    .dataframe thead th {\n",
       "        text-align: right;\n",
       "    }\n",
       "</style>\n",
       "<table border=\"1\" class=\"dataframe\">\n",
       "  <thead>\n",
       "    <tr style=\"text-align: right;\">\n",
       "      <th></th>\n",
       "      <th>No. nodes</th>\n",
       "      <th>Space (bytes)</th>\n",
       "    </tr>\n",
       "  </thead>\n",
       "  <tbody>\n",
       "    <tr>\n",
       "      <th>0</th>\n",
       "      <td>10</td>\n",
       "      <td>129K</td>\n",
       "    </tr>\n",
       "    <tr>\n",
       "      <th>1</th>\n",
       "      <td>100</td>\n",
       "      <td>141K</td>\n",
       "    </tr>\n",
       "    <tr>\n",
       "      <th>2</th>\n",
       "      <td>1k</td>\n",
       "      <td>255K</td>\n",
       "    </tr>\n",
       "    <tr>\n",
       "      <th>3</th>\n",
       "      <td>10k</td>\n",
       "      <td>1M</td>\n",
       "    </tr>\n",
       "    <tr>\n",
       "      <th>4</th>\n",
       "      <td>100k</td>\n",
       "      <td>13M</td>\n",
       "    </tr>\n",
       "    <tr>\n",
       "      <th>5</th>\n",
       "      <td>1M</td>\n",
       "      <td>131M</td>\n",
       "    </tr>\n",
       "    <tr>\n",
       "      <th>6</th>\n",
       "      <td>10M</td>\n",
       "      <td>1G</td>\n",
       "    </tr>\n",
       "    <tr>\n",
       "      <th>7</th>\n",
       "      <td>100M</td>\n",
       "      <td>12G</td>\n",
       "    </tr>\n",
       "    <tr>\n",
       "      <th>8</th>\n",
       "      <td>1B</td>\n",
       "      <td>128G</td>\n",
       "    </tr>\n",
       "  </tbody>\n",
       "</table>\n",
       "</div>"
      ],
      "text/plain": [
       "  No. nodes Space (bytes)\n",
       "0        10          129K\n",
       "1       100          141K\n",
       "2        1k          255K\n",
       "3       10k            1M\n",
       "4      100k           13M\n",
       "5        1M          131M\n",
       "6       10M            1G\n",
       "7      100M           12G\n",
       "8        1B          128G"
      ]
     },
     "execution_count": 97,
     "metadata": {},
     "output_type": "execute_result"
    }
   ],
   "source": [
    "import pandas as pd\n",
    "from hurry.filesize import size\n",
    "from millify import millify\n",
    "\n",
    "df = pd.DataFrame({\n",
    "    'No. nodes': [millify(t) for t in (x + big_x)],\n",
    "    'Space (bytes)': [size(z) for z in (y + big_y)],\n",
    "})\n",
    "df"
   ]
  },
  {
   "cell_type": "markdown",
   "metadata": {},
   "source": [
    "## 2.2. Disk usage of edges"
   ]
  },
  {
   "cell_type": "code",
   "execution_count": 98,
   "metadata": {},
   "outputs": [
    {
     "data": {
      "text/plain": [
       "<matplotlib.collections.PathCollection at 0x7f06339d7880>"
      ]
     },
     "execution_count": 98,
     "metadata": {},
     "output_type": "execute_result"
    },
    {
     "data": {
      "image/png": "[encoded data removed]",
      "text/plain": [
       "<Figure size 432x288 with 1 Axes>"
      ]
     },
     "metadata": {
      "needs_background": "light"
     },
     "output_type": "display_data"
    }
   ],
   "source": [
    "x = [10, 100, 1000, 10000]\n",
    "y = []\n",
    "\n",
    "n_nodes = 10 ** 5\n",
    "\n",
    "def do_work(q):\n",
    "    with driver.session() as session:\n",
    "        session.write_transaction(query, q)\n",
    "\n",
    "for i, n in enumerate(x):\n",
    "    if i > 0:\n",
    "        n -= x[i-1]\n",
    "    if n == n_nodes:\n",
    "        n -= 1\n",
    "\n",
    "    with ThreadPoolExecutor() as executor:\n",
    "        node = 0\n",
    "        for neighbour in range(1, 1 + n):\n",
    "            if i > 0:\n",
    "                neighbour += sum(x[:i])\n",
    "            neighbour %= n_nodes\n",
    "\n",
    "            q = f'match (a),(b) where id(a)={node} and id(b)={neighbour} create (a)-[:Edge]->(b)'\n",
    "            executor.submit(do_work, q)\n",
    "    \n",
    "    y.append(int(parse(du())) - 13 * 1024 ** 2)  # Minus ~13MB of 100K nodes\n",
    "    \n",
    "from matplotlib import pyplot as plt\n",
    "plt.scatter(x, y)"
   ]
  },
  {
   "cell_type": "code",
   "execution_count": 99,
   "metadata": {},
   "outputs": [
    {
     "data": {
      "text/html": [
       "<div>\n",
       "<style scoped>\n",
       "    .dataframe tbody tr th:only-of-type {\n",
       "        vertical-align: middle;\n",
       "    }\n",
       "\n",
       "    .dataframe tbody tr th {\n",
       "        vertical-align: top;\n",
       "    }\n",
       "\n",
       "    .dataframe thead th {\n",
       "        text-align: right;\n",
       "    }\n",
       "</style>\n",
       "<table border=\"1\" class=\"dataframe\">\n",
       "  <thead>\n",
       "    <tr style=\"text-align: right;\">\n",
       "      <th></th>\n",
       "      <th>No. edges</th>\n",
       "      <th>Space (bytes)</th>\n",
       "    </tr>\n",
       "  </thead>\n",
       "  <tbody>\n",
       "    <tr>\n",
       "      <th>0</th>\n",
       "      <td>10</td>\n",
       "      <td>291K</td>\n",
       "    </tr>\n",
       "    <tr>\n",
       "      <th>1</th>\n",
       "      <td>100</td>\n",
       "      <td>342K</td>\n",
       "    </tr>\n",
       "    <tr>\n",
       "      <th>2</th>\n",
       "      <td>1k</td>\n",
       "      <td>829K</td>\n",
       "    </tr>\n",
       "    <tr>\n",
       "      <th>3</th>\n",
       "      <td>10k</td>\n",
       "      <td>5M</td>\n",
       "    </tr>\n",
       "    <tr>\n",
       "      <th>4</th>\n",
       "      <td>100k</td>\n",
       "      <td>53M</td>\n",
       "    </tr>\n",
       "    <tr>\n",
       "      <th>5</th>\n",
       "      <td>1M</td>\n",
       "      <td>528M</td>\n",
       "    </tr>\n",
       "  </tbody>\n",
       "</table>\n",
       "</div>"
      ],
      "text/plain": [
       "  No. edges Space (bytes)\n",
       "0        10          291K\n",
       "1       100          342K\n",
       "2        1k          829K\n",
       "3       10k            5M\n",
       "4      100k           53M\n",
       "5        1M          528M"
      ]
     },
     "execution_count": 99,
     "metadata": {},
     "output_type": "execute_result"
    }
   ],
   "source": [
    "a, b = np.polyfit(x, y, 1)\n",
    "big_x = [10 ** p for p in range(5, 7)]\n",
    "big_y = [a * bx + b for bx in big_x]\n",
    "\n",
    "df = pd.DataFrame({\n",
    "    'No. edges': [millify(t) for t in (x + big_x)],\n",
    "    'Space (bytes)': [size(z) for z in (y + big_y)],\n",
    "})\n",
    "df"
   ]
  },
  {
   "cell_type": "markdown",
   "metadata": {},
   "source": [
    "### 2.2.1. Neo4j's article on disk usage: https://neo4j.com/developer/kb/understanding-data-on-disk/"
   ]
  },
  {
   "cell_type": "markdown",
   "metadata": {},
   "source": [
    "## 2.3. Isolated node creation time w.r.t. number of nodes"
   ]
  },
  {
   "cell_type": "code",
   "execution_count": 100,
   "metadata": {},
   "outputs": [
    {
     "data": {
      "text/plain": [
       "<matplotlib.collections.PathCollection at 0x7f06338cef10>"
      ]
     },
     "execution_count": 100,
     "metadata": {},
     "output_type": "execute_result"
    },
    {
     "data": {
      "image/png": "[encoded data removed]",
      "text/plain": [
       "<Figure size 432x288 with 1 Axes>"
      ]
     },
     "metadata": {
      "needs_background": "light"
     },
     "output_type": "display_data"
    }
   ],
   "source": [
    "x, y = zip(*isolated_node_creation_time)\n",
    "plt.scatter(x, y)"
   ]
  },
  {
   "cell_type": "markdown",
   "metadata": {},
   "source": [
    "...constant time? (with random variation due to I/O)"
   ]
  },
  {
   "cell_type": "markdown",
   "metadata": {},
   "source": [
    "## 2.4. Single node's creation & deletion time w.r.t. number of neighbours"
   ]
  },
  {
   "cell_type": "markdown",
   "metadata": {},
   "source": [
    "### 2.4.1. Creation time"
   ]
  },
  {
   "cell_type": "code",
   "execution_count": 101,
   "metadata": {},
   "outputs": [
    {
     "data": {
      "text/plain": [
       "<matplotlib.collections.PathCollection at 0x7f06345b9b80>"
      ]
     },
     "execution_count": 101,
     "metadata": {},
     "output_type": "execute_result"
    },
    {
     "data": {
      "image/png": "[encoded data removed]",
      "text/plain": [
       "<Figure size 432x288 with 1 Axes>"
      ]
     },
     "metadata": {
      "needs_background": "light"
     },
     "output_type": "display_data"
    }
   ],
   "source": [
    "from time import time\n",
    "\n",
    "x = [10, 100, 1000, 10000, 100000]\n",
    "y = []\n",
    "y_del = []\n",
    "\n",
    "for i, n in enumerate(x):\n",
    "    if n == n_nodes:\n",
    "        n -= 1\n",
    "        \n",
    "    neighbours = [f'n{i}' for i in range(n)]\n",
    "    q = f'match (a) where a.name in {neighbours} create (n {{name: \"new\"}}),(n)-[e:Edge]->(a) return n'\n",
    "\n",
    "    start = time()\n",
    "    with driver.session() as s:\n",
    "        s.write_transaction(query, q)\n",
    "    y.append(time() - start)\n",
    "        \n",
    "    start = time()\n",
    "    with driver.session() as s:\n",
    "        s.write_transaction(query, f'match (n),(n)-[e:Edge]->() where n.name = \"new\" delete e,n')\n",
    "    y_del.append(time() - start)\n",
    "    \n",
    "from matplotlib import pyplot as plt\n",
    "plt.scatter(x, y)"
   ]
  },
  {
   "cell_type": "code",
   "execution_count": 102,
   "metadata": {},
   "outputs": [
    {
     "data": {
      "text/html": [
       "<div>\n",
       "<style scoped>\n",
       "    .dataframe tbody tr th:only-of-type {\n",
       "        vertical-align: middle;\n",
       "    }\n",
       "\n",
       "    .dataframe tbody tr th {\n",
       "        vertical-align: top;\n",
       "    }\n",
       "\n",
       "    .dataframe thead th {\n",
       "        text-align: right;\n",
       "    }\n",
       "</style>\n",
       "<table border=\"1\" class=\"dataframe\">\n",
       "  <thead>\n",
       "    <tr style=\"text-align: right;\">\n",
       "      <th></th>\n",
       "      <th>No. edges on insert</th>\n",
       "      <th>Time (seconds)</th>\n",
       "    </tr>\n",
       "  </thead>\n",
       "  <tbody>\n",
       "    <tr>\n",
       "      <th>0</th>\n",
       "      <td>10</td>\n",
       "      <td>0</td>\n",
       "    </tr>\n",
       "    <tr>\n",
       "      <th>1</th>\n",
       "      <td>100</td>\n",
       "      <td>0</td>\n",
       "    </tr>\n",
       "    <tr>\n",
       "      <th>2</th>\n",
       "      <td>1k</td>\n",
       "      <td>0</td>\n",
       "    </tr>\n",
       "    <tr>\n",
       "      <th>3</th>\n",
       "      <td>10k</td>\n",
       "      <td>1</td>\n",
       "    </tr>\n",
       "    <tr>\n",
       "      <th>4</th>\n",
       "      <td>100k</td>\n",
       "      <td>13</td>\n",
       "    </tr>\n",
       "    <tr>\n",
       "      <th>5</th>\n",
       "      <td>1M</td>\n",
       "      <td>125</td>\n",
       "    </tr>\n",
       "    <tr>\n",
       "      <th>6</th>\n",
       "      <td>10M</td>\n",
       "      <td>1k</td>\n",
       "    </tr>\n",
       "  </tbody>\n",
       "</table>\n",
       "</div>"
      ],
      "text/plain": [
       "  No. edges on insert Time (seconds)\n",
       "0                  10              0\n",
       "1                 100              0\n",
       "2                  1k              0\n",
       "3                 10k              1\n",
       "4                100k             13\n",
       "5                  1M            125\n",
       "6                 10M             1k"
      ]
     },
     "execution_count": 102,
     "metadata": {},
     "output_type": "execute_result"
    }
   ],
   "source": [
    "a, b = np.polyfit(x, y, 1)\n",
    "big_x = [10 ** p for p in range(6, 8)]\n",
    "big_y = [a * bx + b for bx in big_x]\n",
    "\n",
    "df = pd.DataFrame({\n",
    "    'No. edges on insert': [millify(t) for t in (x + big_x)],\n",
    "    'Time (seconds)': [millify(z) for z in (y + big_y)],\n",
    "})\n",
    "df"
   ]
  },
  {
   "cell_type": "markdown",
   "metadata": {},
   "source": [
    "### 2.4.2. Deletion time"
   ]
  },
  {
   "cell_type": "code",
   "execution_count": 103,
   "metadata": {},
   "outputs": [
    {
     "data": {
      "text/plain": [
       "<matplotlib.collections.PathCollection at 0x7f06345e63a0>"
      ]
     },
     "execution_count": 103,
     "metadata": {},
     "output_type": "execute_result"
    },
    {
     "data": {
      "image/png": "[encoded data removed]",
      "text/plain": [
       "<Figure size 432x288 with 1 Axes>"
      ]
     },
     "metadata": {
      "needs_background": "light"
     },
     "output_type": "display_data"
    }
   ],
   "source": [
    "plt.scatter(x, y_del)"
   ]
  },
  {
   "cell_type": "code",
   "execution_count": 104,
   "metadata": {},
   "outputs": [
    {
     "data": {
      "text/html": [
       "<div>\n",
       "<style scoped>\n",
       "    .dataframe tbody tr th:only-of-type {\n",
       "        vertical-align: middle;\n",
       "    }\n",
       "\n",
       "    .dataframe tbody tr th {\n",
       "        vertical-align: top;\n",
       "    }\n",
       "\n",
       "    .dataframe thead th {\n",
       "        text-align: right;\n",
       "    }\n",
       "</style>\n",
       "<table border=\"1\" class=\"dataframe\">\n",
       "  <thead>\n",
       "    <tr style=\"text-align: right;\">\n",
       "      <th></th>\n",
       "      <th>No. edges on delete</th>\n",
       "      <th>Time (seconds)</th>\n",
       "    </tr>\n",
       "  </thead>\n",
       "  <tbody>\n",
       "    <tr>\n",
       "      <th>0</th>\n",
       "      <td>10</td>\n",
       "      <td>0</td>\n",
       "    </tr>\n",
       "    <tr>\n",
       "      <th>1</th>\n",
       "      <td>100</td>\n",
       "      <td>0</td>\n",
       "    </tr>\n",
       "    <tr>\n",
       "      <th>2</th>\n",
       "      <td>1k</td>\n",
       "      <td>0</td>\n",
       "    </tr>\n",
       "    <tr>\n",
       "      <th>3</th>\n",
       "      <td>10k</td>\n",
       "      <td>0</td>\n",
       "    </tr>\n",
       "    <tr>\n",
       "      <th>4</th>\n",
       "      <td>100k</td>\n",
       "      <td>3</td>\n",
       "    </tr>\n",
       "    <tr>\n",
       "      <th>5</th>\n",
       "      <td>100k</td>\n",
       "      <td>3</td>\n",
       "    </tr>\n",
       "    <tr>\n",
       "      <th>6</th>\n",
       "      <td>1M</td>\n",
       "      <td>28</td>\n",
       "    </tr>\n",
       "    <tr>\n",
       "      <th>7</th>\n",
       "      <td>10M</td>\n",
       "      <td>278</td>\n",
       "    </tr>\n",
       "  </tbody>\n",
       "</table>\n",
       "</div>"
      ],
      "text/plain": [
       "  No. edges on delete Time (seconds)\n",
       "0                  10              0\n",
       "1                 100              0\n",
       "2                  1k              0\n",
       "3                 10k              0\n",
       "4                100k              3\n",
       "5                100k              3\n",
       "6                  1M             28\n",
       "7                 10M            278"
      ]
     },
     "execution_count": 104,
     "metadata": {},
     "output_type": "execute_result"
    }
   ],
   "source": [
    "a, b = np.polyfit(x, y_del, 1)\n",
    "big_x = [10 ** p for p in range(5, 8)]\n",
    "big_y = [a * bx + b for bx in big_x]\n",
    "\n",
    "df = pd.DataFrame({\n",
    "    'No. edges on delete': [millify(t) for t in (x + big_x)],\n",
    "    'Time (seconds)': [millify(z) for z in (y_del + big_y)],\n",
    "})\n",
    "df"
   ]
  },
  {
   "cell_type": "markdown",
   "metadata": {},
   "source": [
    "# Clean up"
   ]
  },
  {
   "cell_type": "code",
   "execution_count": 91,
   "metadata": {},
   "outputs": [
    {
     "data": {
      "text/plain": [
       "CompletedProcess(args=['docker', 'stop', 'bench'], returncode=0)"
      ]
     },
     "execution_count": 91,
     "metadata": {},
     "output_type": "execute_result"
    }
   ],
   "source": [
    "driver.close()\n",
    "subprocess.run(['docker', 'stop', 'bench'])"
   ]
  }
 ],
 "metadata": {
  "kernelspec": {
   "display_name": "Python 3",
   "language": "python",
   "name": "python3"
  },
  "language_info": {
   "codemirror_mode": {
    "name": "ipython",
    "version": 3
   },
   "file_extension": ".py",
   "mimetype": "text/x-python",
   "name": "python",
   "nbconvert_exporter": "python",
   "pygments_lexer": "ipython3",
   "version": "3.8.2"
  }
 },
 "nbformat": 4,
 "nbformat_minor": 4
}
