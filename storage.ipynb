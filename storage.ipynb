{
 "cells": [
  {
   "cell_type": "markdown",
   "metadata": {},
   "source": [
    "# Start neo4j docker container"
   ]
  },
  {
   "cell_type": "code",
   "execution_count": 67,
   "metadata": {},
   "outputs": [
    {
     "data": {
      "text/plain": [
       "CompletedProcess(args=['docker', 'run', '--rm', '-d', '-e', 'NEO4J_AUTH=none', '-p', '7687:7687', '-p', '7474:7474', '--name', 'bench', 'neo4j:3.5'], returncode=0)"
      ]
     },
     "execution_count": 67,
     "metadata": {},
     "output_type": "execute_result"
    },
    {
     "name": "stderr",
     "output_type": "stream",
     "text": [
      "Transaction failed and will be retried in 18.57252486497345s (Connection pool closed)\n",
      "Transaction failed and will be retried in 13.183661447818317s (Connection pool closed)\n",
      "Transaction failed and will be retried in 17.24361799439328s (Connection pool closed)\n",
      "Transaction failed and will be retried in 18.52174208185227s (Connection pool closed)\n",
      "Transaction failed and will be retried in 16.85926757495961s (Connection pool closed)\n",
      "Transaction failed and will be retried in 14.118181887715668s (Connection pool closed)\n",
      "Transaction failed and will be retried in 14.693485036872755s (Connection pool closed)\n",
      "Transaction failed and will be retried in 16.722775024206545s (Connection pool closed)\n",
      "Transaction failed and will be retried in 16.753421805188932s (Connection pool closed)\n",
      "Transaction failed and will be retried in 16.150301939845857s (Connection pool closed)\n",
      "Transaction failed and will be retried in 14.11014677666206s (Connection pool closed)\n",
      "Transaction failed and will be retried in 36.1277991355048s (Connection pool closed)\n",
      "Transaction failed and will be retried in 27.43599924775409s (Connection pool closed)\n"
     ]
    }
   ],
   "source": [
    "import subprocess\n",
    "\n",
    "subprocess.run(['docker', 'run',\n",
    "                '--rm', '-d',\n",
    "                '-e', 'NEO4J_AUTH=none',\n",
    "                '-p', '7687:7687',\n",
    "                '-p', '7474:7474',\n",
    "                '--name', 'bench',\n",
    "                'neo4j:3.5'])"
   ]
  },
  {
   "cell_type": "markdown",
   "metadata": {},
   "source": [
    "# Connect to neo4j (wait a bit before executing)"
   ]
  },
  {
   "cell_type": "code",
   "execution_count": 68,
   "metadata": {},
   "outputs": [],
   "source": [
    "from neo4j import GraphDatabase\n",
    "\n",
    "driver = GraphDatabase.driver(\"bolt://localhost:7687\", max_connection_pool_size=50)"
   ]
  },
  {
   "cell_type": "markdown",
   "metadata": {},
   "source": [
    "# Example query"
   ]
  },
  {
   "cell_type": "code",
   "execution_count": 55,
   "metadata": {},
   "outputs": [],
   "source": [
    "def query(tx, n):\n",
    "    nodes = ['()'] * n\n",
    "    nodes = ','.join(nodes)\n",
    "    query = f'create {nodes}'\n",
    "    return tx.run(query)\n",
    "\n",
    "with driver.session() as session:\n",
    "    session.write_transaction(query, 1)"
   ]
  },
  {
   "cell_type": "markdown",
   "metadata": {},
   "source": [
    "# How we'll get disk usage"
   ]
  },
  {
   "cell_type": "code",
   "execution_count": 56,
   "metadata": {},
   "outputs": [
    {
     "name": "stdout",
     "output_type": "stream",
     "text": [
      "4096\t/data/databases/graph.db/index\n",
      "123244\t/data/databases/graph.db\n",
      "127340\t/data/databases\n",
      "131436\t/data\n",
      "131436\ttotal\n",
      "\n"
     ]
    }
   ],
   "source": [
    "def du():\n",
    "    return subprocess.run(['docker', 'exec', 'bench',\n",
    "                       'du', '-bc', '/data'],\n",
    "                      capture_output=True, encoding='utf-8')\n",
    "\n",
    "proc = du()\n",
    "print(proc.stdout)"
   ]
  },
  {
   "cell_type": "markdown",
   "metadata": {},
   "source": [
    "# How we'll parse it"
   ]
  },
  {
   "cell_type": "code",
   "execution_count": 57,
   "metadata": {},
   "outputs": [
    {
     "data": {
      "text/plain": [
       "131436.0"
      ]
     },
     "execution_count": 57,
     "metadata": {},
     "output_type": "execute_result"
    }
   ],
   "source": [
    "def parse(proc):\n",
    "    return float(proc.stdout.split('\\n')[-2].split('\\t')[0])\n",
    "\n",
    "parse(proc)"
   ]
  },
  {
   "cell_type": "markdown",
   "metadata": {},
   "source": [
    "# Create 10^4, 10^5, ..., 10^9 nodes and collect their disk usage"
   ]
  },
  {
   "cell_type": "code",
   "execution_count": 69,
   "metadata": {},
   "outputs": [
    {
     "name": "stdout",
     "output_type": "stream",
     "text": [
      "Done with p = 4 in 1.5182149410247803\n",
      "Done with p = 5 in 1.614102840423584\n",
      "Done with p = 6 in 3.504718065261841\n",
      "Done with p = 7 in 35.03845715522766\n",
      "Done with p = 8 in 184.07972741127014\n",
      "Done with p = 9 in 1436.703712940216\n",
      "range(4, 10)\n",
      "[3104878277.0, 3207538260.0, 3410018271.0, 4567563872.0, 15034935088.0, 74222322303.0]\n"
     ]
    }
   ],
   "source": [
    "from concurrent.futures import ThreadPoolExecutor\n",
    "from time import time\n",
    "\n",
    "def do_work(n):\n",
    "    with driver.session() as session:\n",
    "        session.write_transaction(query, n)\n",
    "\n",
    "x = range(4, 10)\n",
    "y = []\n",
    "\n",
    "for p in x:\n",
    "    n = 10 ** p\n",
    "    if p > 4:\n",
    "        n -= 10 ** (p-1)  # Minus the nodes created in the previous iteration\n",
    "    \n",
    "    start = time()\n",
    "    # Using executor in a with statement will wait for all futures to finish before exiting\n",
    "    # https://docs.python.org/3/library/concurrent.futures.html#concurrent.futures.Executor.shutdown\n",
    "    with ThreadPoolExecutor() as executor:\n",
    "        one_chunk = 10 ** 4\n",
    "        chunks, remain = divmod(n, one_chunk)\n",
    "        for _ in range(chunks):\n",
    "            executor.submit(do_work, one_chunk)\n",
    "        if remain > 0:\n",
    "            do_work(remain)\n",
    "        \n",
    "    proc = du()\n",
    "    y.append(parse(proc))\n",
    "    \n",
    "    print('Done with p =', p, 'in', time() - start)"
   ]
  },
  {
   "cell_type": "markdown",
   "metadata": {},
   "source": [
    "# Plot disk usage vs number of nodes"
   ]
  },
  {
   "cell_type": "code",
   "execution_count": 10,
   "metadata": {},
   "outputs": [
    {
     "data": {
      "text/plain": [
       "[<matplotlib.lines.Line2D at 0x7fd0d1eb92b0>]"
      ]
     },
     "execution_count": 10,
     "metadata": {},
     "output_type": "execute_result"
    },
    {
     "data": {
      "image/png": "[encoded data removed]",
      "text/plain": [
       "<Figure size 432x288 with 1 Axes>"
      ]
     },
     "metadata": {
      "needs_background": "light"
     },
     "output_type": "display_data"
    }
   ],
   "source": [
    "from matplotlib import pyplot as plt\n",
    "\n",
    "plt.plot([10 ** p for p in x], y)"
   ]
  },
  {
   "cell_type": "markdown",
   "metadata": {},
   "source": [
    "So it seems storage increase linearly with number of nodes"
   ]
  },
  {
   "cell_type": "markdown",
   "metadata": {},
   "source": [
    "# Disconnect and remove neo4j"
   ]
  },
  {
   "cell_type": "code",
   "execution_count": 11,
   "metadata": {},
   "outputs": [
    {
     "ename": "NameError",
     "evalue": "name 'driver' is not defined",
     "output_type": "error",
     "traceback": [
      "\u001b[0;31m---------------------------------------------------------------------------\u001b[0m",
      "\u001b[0;31mNameError\u001b[0m                                 Traceback (most recent call last)",
      "\u001b[0;32m<ipython-input-11-16427c302d9f>\u001b[0m in \u001b[0;36m<module>\u001b[0;34m\u001b[0m\n\u001b[0;32m----> 1\u001b[0;31m \u001b[0mdriver\u001b[0m\u001b[0;34m.\u001b[0m\u001b[0mclose\u001b[0m\u001b[0;34m(\u001b[0m\u001b[0;34m)\u001b[0m\u001b[0;34m\u001b[0m\u001b[0;34m\u001b[0m\u001b[0m\n\u001b[0m\u001b[1;32m      2\u001b[0m \u001b[0msubprocess\u001b[0m\u001b[0;34m.\u001b[0m\u001b[0mrun\u001b[0m\u001b[0;34m(\u001b[0m\u001b[0;34m[\u001b[0m\u001b[0;34m'docker'\u001b[0m\u001b[0;34m,\u001b[0m \u001b[0;34m'stop'\u001b[0m\u001b[0;34m,\u001b[0m \u001b[0;34m'bench'\u001b[0m\u001b[0;34m]\u001b[0m\u001b[0;34m)\u001b[0m\u001b[0;34m\u001b[0m\u001b[0;34m\u001b[0m\u001b[0m\n",
      "\u001b[0;31mNameError\u001b[0m: name 'driver' is not defined"
     ]
    }
   ],
   "source": [
    "driver.close()\n",
    "subprocess.run(['docker', 'stop', 'bench'])"
   ]
  },
  {
   "cell_type": "code",
   "execution_count": null,
   "metadata": {},
   "outputs": [],
   "source": []
  }
 ],
 "metadata": {
  "kernelspec": {
   "display_name": "Python 3",
   "language": "python",
   "name": "python3"
  }
 },
 "nbformat": 4,
 "nbformat_minor": 4
}
